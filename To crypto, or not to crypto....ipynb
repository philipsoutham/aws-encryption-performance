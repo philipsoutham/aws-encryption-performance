{
 "cells": [
  {
   "cell_type": "code",
   "execution_count": 1,
   "metadata": {
    "ExecuteTime": {
     "end_time": "2016-04-20T21:44:10.617836",
     "start_time": "2016-04-20T21:44:10.037774"
    },
    "code_folding": [],
    "collapsed": false,
    "init_cell": true
   },
   "outputs": [],
   "source": [
    "# PREAMBLE\n",
    "import pandas as pd\n",
    "%matplotlib inline\n",
    "import random\n",
    "import matplotlib.pyplot as plt\n",
    "import matplotlib\n",
    "#matplotlib.style.use('ggplot')\n",
    "import seaborn as sns\n",
    "import re\n",
    "import io\n",
    "import os.path"
   ]
  },
  {
   "cell_type": "code",
   "execution_count": 3,
   "metadata": {
    "ExecuteTime": {
     "end_time": "2016-04-19T14:41:18.308815",
     "start_time": "2016-04-19T14:41:18.125140"
    },
    "collapsed": true
   },
   "outputs": [],
   "source": [
    "### Network I/O"
   ]
  },
  {
   "cell_type": "code",
   "execution_count": 4,
   "metadata": {
    "ExecuteTime": {
     "end_time": "2016-04-19T14:41:18.631437",
     "start_time": "2016-04-19T14:41:18.310390"
    },
    "collapsed": false
   },
   "outputs": [],
   "source": [
    "# PROCESS SAR METRICS\n",
    "FIND_ETH0 = re.compile(\".+ ens3 .+\")\n",
    "FIND_CPU = re.compile(\".+ all .+\")\n",
    "BW_COLS = [\"ts\", \"rxpck\",\"txpck\",\"rxkB\",\"txkB\"]\n",
    "CPU_COLS = [\"cpu\"]\n",
    "SAMPLES = 5\n",
    "\n",
    "network_df = lambda fname: pd.read_fwf(io.StringIO(\"\".join(filter(FIND_ETH0.match, open(fname)))), header=None)\\\n",
    "                             .loc[:,[0,3,4,5,6]]\n",
    "cpu_df = lambda fname: pd.read_fwf(io.StringIO(\"\".join(filter(FIND_CPU.match, open(fname)))), header=None)\\\n",
    "                             .loc[:,[8]]\n",
    "\n",
    "async_no_ssl_networks = tuple(network_df(os.path.join(\"reports2\", \"async_no_ssl_no_sse-network.{}.sar.txt\".format(i)))\n",
    "                              for i in range(1,6))\n",
    "async_yes_ssl_networks = tuple(network_df(os.path.join(\"reports2\", \"async_yes_ssl_no_sse-network.{}.sar.txt\".format(i)))\n",
    "                               for i in range(1,6))\n",
    "async_yes_sse_networks = tuple(network_df(os.path.join(\"reports2\", \"async_yes_ssl_yes_sse-network.{}.sar.txt\".format(i)))\n",
    "                               for i in range(1,6))\n",
    "\n",
    "async_no_ssl_cpus = tuple(cpu_df(os.path.join(\"reports2\", \"async_no_ssl_no_sse-cpu.{}.sar.txt\".format(i)))\n",
    "                          for i in range(1, SAMPLES+1))\n",
    "async_yes_ssl_cpus = tuple(cpu_df(os.path.join(\"reports2\", \"async_yes_ssl_no_sse-cpu.{}.sar.txt\".format(i)))\n",
    "                           for i in range(1, SAMPLES+1))\n",
    "async_yes_sse_cpus = tuple(cpu_df(os.path.join(\"reports2\", \"async_yes_ssl_yes_sse-cpu.{}.sar.txt\".format(i)))\n",
    "                           for i in range(1, SAMPLES+1))\n",
    "\n",
    "for df in async_no_ssl_networks + async_yes_sse_networks + async_yes_ssl_networks:\n",
    "    df.columns = BW_COLS\n",
    "\n",
    "for df in async_no_ssl_cpus + async_yes_sse_cpus + async_yes_ssl_cpus:\n",
    "    df.columns = CPU_COLS\n",
    "\n",
    "async_no_ssl_cpu = pd.DataFrame({\"s{}\".format(i): 100-df.cpu for (i,df) in enumerate(async_no_ssl_cpus, 1)})\n",
    "async_no_ssl_cpu.df_name = \"no_ssl_cpu\"\n",
    "async_yes_ssl_cpu = pd.DataFrame({\"s{}\".format(i): 100-df.cpu for (i,df) in enumerate(async_yes_ssl_cpus, 1)})\n",
    "async_yes_ssl_cpu.df_name = \"yes_ssl_cpu\"\n",
    "async_yes_sse_cpu = pd.DataFrame({\"s{}\".format(i): 100-df.cpu for (i,df) in enumerate(async_yes_sse_cpus, 1)})\n",
    "async_yes_sse_cpu.df_name = \"yes_sse_cpu\"\n",
    "\n",
    "async_no_ssl_network = pd.DataFrame({\"s{}\".format(i): df.txkB for (i,df) in enumerate(async_no_ssl_networks, 1)})\n",
    "async_no_ssl_network.df_name = \"no_ssl_network\"\n",
    "async_yes_ssl_network = pd.DataFrame({\"s{}\".format(i): df.txkB for (i,df) in enumerate(async_yes_ssl_networks, 1)})\n",
    "async_yes_ssl_network.df_name = \"yes_ssl_network\"\n",
    "async_yes_sse_network = pd.DataFrame({\"s{}\".format(i): df.txkB for (i,df) in enumerate(async_yes_sse_networks, 1)})\n",
    "async_yes_sse_network.df_name = \"yes_sse_network\"\n",
    "\n",
    "async_cpu = (async_no_ssl_cpu, async_yes_ssl_cpu, async_yes_sse_cpu)\n",
    "async_network = (async_no_ssl_network, async_yes_ssl_network, async_yes_sse_network)\n",
    "\n",
    "for df in async_cpu + async_network:\n",
    "    df[\"sample_mean\"] = df[list(map(\"s{}\".format, range(1, SAMPLES+1)))].mean(1)"
   ]
  },
  {
   "cell_type": "code",
   "execution_count": 5,
   "metadata": {
    "ExecuteTime": {
     "end_time": "2016-04-19T14:41:18.637172",
     "start_time": "2016-04-19T14:41:18.632744"
    },
    "collapsed": false
   },
   "outputs": [],
   "source": [
    "summary = pd.DataFrame({df.df_name: df.sample_mean for df in async_cpu + async_network}).loc[13:425,]"
   ]
  },
  {
   "cell_type": "code",
   "execution_count": 6,
   "metadata": {
    "ExecuteTime": {
     "end_time": "2016-04-19T14:41:19.154601",
     "start_time": "2016-04-19T14:41:18.638547"
    },
    "collapsed": false
   },
   "outputs": [
    {
     "name": "stderr",
     "output_type": "stream",
     "text": [
      "/home/psoutham/.apps/anaconda3/envs/bunnies/lib/python3.5/site-packages/ipykernel/__main__.py:2: SettingWithCopyWarning: \n",
      "A value is trying to be set on a copy of a slice from a DataFrame.\n",
      "Try using .loc[row_indexer,col_indexer] = value instead\n",
      "\n",
      "See the caveats in the documentation: http://pandas.pydata.org/pandas-docs/stable/indexing.html#indexing-view-versus-copy\n",
      "  from ipykernel import kernelapp as app\n"
     ]
    },
    {
     "data": {
      "text/html": [
       "<div>\n",
       "<table border=\"1\" class=\"dataframe\">\n",
       "  <thead>\n",
       "    <tr style=\"text-align: right;\">\n",
       "      <th></th>\n",
       "      <th>t</th>\n",
       "      <th>variable</th>\n",
       "      <th>value</th>\n",
       "    </tr>\n",
       "  </thead>\n",
       "  <tbody>\n",
       "    <tr>\n",
       "      <th>0</th>\n",
       "      <td>13</td>\n",
       "      <td>no_ssl_cpu</td>\n",
       "      <td>1.260</td>\n",
       "    </tr>\n",
       "    <tr>\n",
       "      <th>1</th>\n",
       "      <td>14</td>\n",
       "      <td>no_ssl_cpu</td>\n",
       "      <td>1.378</td>\n",
       "    </tr>\n",
       "    <tr>\n",
       "      <th>2</th>\n",
       "      <td>15</td>\n",
       "      <td>no_ssl_cpu</td>\n",
       "      <td>1.382</td>\n",
       "    </tr>\n",
       "    <tr>\n",
       "      <th>3</th>\n",
       "      <td>16</td>\n",
       "      <td>no_ssl_cpu</td>\n",
       "      <td>1.310</td>\n",
       "    </tr>\n",
       "    <tr>\n",
       "      <th>4</th>\n",
       "      <td>17</td>\n",
       "      <td>no_ssl_cpu</td>\n",
       "      <td>1.408</td>\n",
       "    </tr>\n",
       "    <tr>\n",
       "      <th>5</th>\n",
       "      <td>18</td>\n",
       "      <td>no_ssl_cpu</td>\n",
       "      <td>1.388</td>\n",
       "    </tr>\n",
       "    <tr>\n",
       "      <th>6</th>\n",
       "      <td>19</td>\n",
       "      <td>no_ssl_cpu</td>\n",
       "      <td>1.450</td>\n",
       "    </tr>\n",
       "    <tr>\n",
       "      <th>7</th>\n",
       "      <td>20</td>\n",
       "      <td>no_ssl_cpu</td>\n",
       "      <td>1.490</td>\n",
       "    </tr>\n",
       "    <tr>\n",
       "      <th>8</th>\n",
       "      <td>21</td>\n",
       "      <td>no_ssl_cpu</td>\n",
       "      <td>1.536</td>\n",
       "    </tr>\n",
       "    <tr>\n",
       "      <th>9</th>\n",
       "      <td>22</td>\n",
       "      <td>no_ssl_cpu</td>\n",
       "      <td>1.406</td>\n",
       "    </tr>\n",
       "    <tr>\n",
       "      <th>10</th>\n",
       "      <td>23</td>\n",
       "      <td>no_ssl_cpu</td>\n",
       "      <td>1.520</td>\n",
       "    </tr>\n",
       "    <tr>\n",
       "      <th>11</th>\n",
       "      <td>24</td>\n",
       "      <td>no_ssl_cpu</td>\n",
       "      <td>1.400</td>\n",
       "    </tr>\n",
       "    <tr>\n",
       "      <th>12</th>\n",
       "      <td>25</td>\n",
       "      <td>no_ssl_cpu</td>\n",
       "      <td>1.394</td>\n",
       "    </tr>\n",
       "    <tr>\n",
       "      <th>13</th>\n",
       "      <td>26</td>\n",
       "      <td>no_ssl_cpu</td>\n",
       "      <td>1.490</td>\n",
       "    </tr>\n",
       "    <tr>\n",
       "      <th>14</th>\n",
       "      <td>27</td>\n",
       "      <td>no_ssl_cpu</td>\n",
       "      <td>1.434</td>\n",
       "    </tr>\n",
       "    <tr>\n",
       "      <th>15</th>\n",
       "      <td>28</td>\n",
       "      <td>no_ssl_cpu</td>\n",
       "      <td>1.468</td>\n",
       "    </tr>\n",
       "    <tr>\n",
       "      <th>16</th>\n",
       "      <td>29</td>\n",
       "      <td>no_ssl_cpu</td>\n",
       "      <td>1.806</td>\n",
       "    </tr>\n",
       "    <tr>\n",
       "      <th>17</th>\n",
       "      <td>30</td>\n",
       "      <td>no_ssl_cpu</td>\n",
       "      <td>1.720</td>\n",
       "    </tr>\n",
       "    <tr>\n",
       "      <th>18</th>\n",
       "      <td>31</td>\n",
       "      <td>no_ssl_cpu</td>\n",
       "      <td>1.438</td>\n",
       "    </tr>\n",
       "    <tr>\n",
       "      <th>19</th>\n",
       "      <td>32</td>\n",
       "      <td>no_ssl_cpu</td>\n",
       "      <td>1.574</td>\n",
       "    </tr>\n",
       "    <tr>\n",
       "      <th>20</th>\n",
       "      <td>33</td>\n",
       "      <td>no_ssl_cpu</td>\n",
       "      <td>2.114</td>\n",
       "    </tr>\n",
       "    <tr>\n",
       "      <th>21</th>\n",
       "      <td>34</td>\n",
       "      <td>no_ssl_cpu</td>\n",
       "      <td>1.632</td>\n",
       "    </tr>\n",
       "    <tr>\n",
       "      <th>22</th>\n",
       "      <td>35</td>\n",
       "      <td>no_ssl_cpu</td>\n",
       "      <td>2.446</td>\n",
       "    </tr>\n",
       "    <tr>\n",
       "      <th>23</th>\n",
       "      <td>36</td>\n",
       "      <td>no_ssl_cpu</td>\n",
       "      <td>3.510</td>\n",
       "    </tr>\n",
       "    <tr>\n",
       "      <th>24</th>\n",
       "      <td>37</td>\n",
       "      <td>no_ssl_cpu</td>\n",
       "      <td>4.928</td>\n",
       "    </tr>\n",
       "    <tr>\n",
       "      <th>25</th>\n",
       "      <td>38</td>\n",
       "      <td>no_ssl_cpu</td>\n",
       "      <td>3.648</td>\n",
       "    </tr>\n",
       "    <tr>\n",
       "      <th>26</th>\n",
       "      <td>39</td>\n",
       "      <td>no_ssl_cpu</td>\n",
       "      <td>3.316</td>\n",
       "    </tr>\n",
       "    <tr>\n",
       "      <th>27</th>\n",
       "      <td>40</td>\n",
       "      <td>no_ssl_cpu</td>\n",
       "      <td>4.788</td>\n",
       "    </tr>\n",
       "    <tr>\n",
       "      <th>28</th>\n",
       "      <td>41</td>\n",
       "      <td>no_ssl_cpu</td>\n",
       "      <td>7.964</td>\n",
       "    </tr>\n",
       "    <tr>\n",
       "      <th>29</th>\n",
       "      <td>42</td>\n",
       "      <td>no_ssl_cpu</td>\n",
       "      <td>11.276</td>\n",
       "    </tr>\n",
       "    <tr>\n",
       "      <th>...</th>\n",
       "      <td>...</td>\n",
       "      <td>...</td>\n",
       "      <td>...</td>\n",
       "    </tr>\n",
       "    <tr>\n",
       "      <th>1209</th>\n",
       "      <td>396</td>\n",
       "      <td>yes_ssl_cpu</td>\n",
       "      <td>10.524</td>\n",
       "    </tr>\n",
       "    <tr>\n",
       "      <th>1210</th>\n",
       "      <td>397</td>\n",
       "      <td>yes_ssl_cpu</td>\n",
       "      <td>9.032</td>\n",
       "    </tr>\n",
       "    <tr>\n",
       "      <th>1211</th>\n",
       "      <td>398</td>\n",
       "      <td>yes_ssl_cpu</td>\n",
       "      <td>10.160</td>\n",
       "    </tr>\n",
       "    <tr>\n",
       "      <th>1212</th>\n",
       "      <td>399</td>\n",
       "      <td>yes_ssl_cpu</td>\n",
       "      <td>9.784</td>\n",
       "    </tr>\n",
       "    <tr>\n",
       "      <th>1213</th>\n",
       "      <td>400</td>\n",
       "      <td>yes_ssl_cpu</td>\n",
       "      <td>12.170</td>\n",
       "    </tr>\n",
       "    <tr>\n",
       "      <th>1214</th>\n",
       "      <td>401</td>\n",
       "      <td>yes_ssl_cpu</td>\n",
       "      <td>10.894</td>\n",
       "    </tr>\n",
       "    <tr>\n",
       "      <th>1215</th>\n",
       "      <td>402</td>\n",
       "      <td>yes_ssl_cpu</td>\n",
       "      <td>10.782</td>\n",
       "    </tr>\n",
       "    <tr>\n",
       "      <th>1216</th>\n",
       "      <td>403</td>\n",
       "      <td>yes_ssl_cpu</td>\n",
       "      <td>10.642</td>\n",
       "    </tr>\n",
       "    <tr>\n",
       "      <th>1217</th>\n",
       "      <td>404</td>\n",
       "      <td>yes_ssl_cpu</td>\n",
       "      <td>9.870</td>\n",
       "    </tr>\n",
       "    <tr>\n",
       "      <th>1218</th>\n",
       "      <td>405</td>\n",
       "      <td>yes_ssl_cpu</td>\n",
       "      <td>9.508</td>\n",
       "    </tr>\n",
       "    <tr>\n",
       "      <th>1219</th>\n",
       "      <td>406</td>\n",
       "      <td>yes_ssl_cpu</td>\n",
       "      <td>9.232</td>\n",
       "    </tr>\n",
       "    <tr>\n",
       "      <th>1220</th>\n",
       "      <td>407</td>\n",
       "      <td>yes_ssl_cpu</td>\n",
       "      <td>10.262</td>\n",
       "    </tr>\n",
       "    <tr>\n",
       "      <th>1221</th>\n",
       "      <td>408</td>\n",
       "      <td>yes_ssl_cpu</td>\n",
       "      <td>10.674</td>\n",
       "    </tr>\n",
       "    <tr>\n",
       "      <th>1222</th>\n",
       "      <td>409</td>\n",
       "      <td>yes_ssl_cpu</td>\n",
       "      <td>9.444</td>\n",
       "    </tr>\n",
       "    <tr>\n",
       "      <th>1223</th>\n",
       "      <td>410</td>\n",
       "      <td>yes_ssl_cpu</td>\n",
       "      <td>9.120</td>\n",
       "    </tr>\n",
       "    <tr>\n",
       "      <th>1224</th>\n",
       "      <td>411</td>\n",
       "      <td>yes_ssl_cpu</td>\n",
       "      <td>9.028</td>\n",
       "    </tr>\n",
       "    <tr>\n",
       "      <th>1225</th>\n",
       "      <td>412</td>\n",
       "      <td>yes_ssl_cpu</td>\n",
       "      <td>8.788</td>\n",
       "    </tr>\n",
       "    <tr>\n",
       "      <th>1226</th>\n",
       "      <td>413</td>\n",
       "      <td>yes_ssl_cpu</td>\n",
       "      <td>7.054</td>\n",
       "    </tr>\n",
       "    <tr>\n",
       "      <th>1227</th>\n",
       "      <td>414</td>\n",
       "      <td>yes_ssl_cpu</td>\n",
       "      <td>8.218</td>\n",
       "    </tr>\n",
       "    <tr>\n",
       "      <th>1228</th>\n",
       "      <td>415</td>\n",
       "      <td>yes_ssl_cpu</td>\n",
       "      <td>7.872</td>\n",
       "    </tr>\n",
       "    <tr>\n",
       "      <th>1229</th>\n",
       "      <td>416</td>\n",
       "      <td>yes_ssl_cpu</td>\n",
       "      <td>7.922</td>\n",
       "    </tr>\n",
       "    <tr>\n",
       "      <th>1230</th>\n",
       "      <td>417</td>\n",
       "      <td>yes_ssl_cpu</td>\n",
       "      <td>9.142</td>\n",
       "    </tr>\n",
       "    <tr>\n",
       "      <th>1231</th>\n",
       "      <td>418</td>\n",
       "      <td>yes_ssl_cpu</td>\n",
       "      <td>8.818</td>\n",
       "    </tr>\n",
       "    <tr>\n",
       "      <th>1232</th>\n",
       "      <td>419</td>\n",
       "      <td>yes_ssl_cpu</td>\n",
       "      <td>6.332</td>\n",
       "    </tr>\n",
       "    <tr>\n",
       "      <th>1233</th>\n",
       "      <td>420</td>\n",
       "      <td>yes_ssl_cpu</td>\n",
       "      <td>6.912</td>\n",
       "    </tr>\n",
       "    <tr>\n",
       "      <th>1234</th>\n",
       "      <td>421</td>\n",
       "      <td>yes_ssl_cpu</td>\n",
       "      <td>9.594</td>\n",
       "    </tr>\n",
       "    <tr>\n",
       "      <th>1235</th>\n",
       "      <td>422</td>\n",
       "      <td>yes_ssl_cpu</td>\n",
       "      <td>8.882</td>\n",
       "    </tr>\n",
       "    <tr>\n",
       "      <th>1236</th>\n",
       "      <td>423</td>\n",
       "      <td>yes_ssl_cpu</td>\n",
       "      <td>10.242</td>\n",
       "    </tr>\n",
       "    <tr>\n",
       "      <th>1237</th>\n",
       "      <td>424</td>\n",
       "      <td>yes_ssl_cpu</td>\n",
       "      <td>9.692</td>\n",
       "    </tr>\n",
       "    <tr>\n",
       "      <th>1238</th>\n",
       "      <td>425</td>\n",
       "      <td>yes_ssl_cpu</td>\n",
       "      <td>10.492</td>\n",
       "    </tr>\n",
       "  </tbody>\n",
       "</table>\n",
       "<p>1239 rows × 3 columns</p>\n",
       "</div>"
      ],
      "text/plain": [
       "        t     variable   value\n",
       "0      13   no_ssl_cpu   1.260\n",
       "1      14   no_ssl_cpu   1.378\n",
       "2      15   no_ssl_cpu   1.382\n",
       "3      16   no_ssl_cpu   1.310\n",
       "4      17   no_ssl_cpu   1.408\n",
       "5      18   no_ssl_cpu   1.388\n",
       "6      19   no_ssl_cpu   1.450\n",
       "7      20   no_ssl_cpu   1.490\n",
       "8      21   no_ssl_cpu   1.536\n",
       "9      22   no_ssl_cpu   1.406\n",
       "10     23   no_ssl_cpu   1.520\n",
       "11     24   no_ssl_cpu   1.400\n",
       "12     25   no_ssl_cpu   1.394\n",
       "13     26   no_ssl_cpu   1.490\n",
       "14     27   no_ssl_cpu   1.434\n",
       "15     28   no_ssl_cpu   1.468\n",
       "16     29   no_ssl_cpu   1.806\n",
       "17     30   no_ssl_cpu   1.720\n",
       "18     31   no_ssl_cpu   1.438\n",
       "19     32   no_ssl_cpu   1.574\n",
       "20     33   no_ssl_cpu   2.114\n",
       "21     34   no_ssl_cpu   1.632\n",
       "22     35   no_ssl_cpu   2.446\n",
       "23     36   no_ssl_cpu   3.510\n",
       "24     37   no_ssl_cpu   4.928\n",
       "25     38   no_ssl_cpu   3.648\n",
       "26     39   no_ssl_cpu   3.316\n",
       "27     40   no_ssl_cpu   4.788\n",
       "28     41   no_ssl_cpu   7.964\n",
       "29     42   no_ssl_cpu  11.276\n",
       "...   ...          ...     ...\n",
       "1209  396  yes_ssl_cpu  10.524\n",
       "1210  397  yes_ssl_cpu   9.032\n",
       "1211  398  yes_ssl_cpu  10.160\n",
       "1212  399  yes_ssl_cpu   9.784\n",
       "1213  400  yes_ssl_cpu  12.170\n",
       "1214  401  yes_ssl_cpu  10.894\n",
       "1215  402  yes_ssl_cpu  10.782\n",
       "1216  403  yes_ssl_cpu  10.642\n",
       "1217  404  yes_ssl_cpu   9.870\n",
       "1218  405  yes_ssl_cpu   9.508\n",
       "1219  406  yes_ssl_cpu   9.232\n",
       "1220  407  yes_ssl_cpu  10.262\n",
       "1221  408  yes_ssl_cpu  10.674\n",
       "1222  409  yes_ssl_cpu   9.444\n",
       "1223  410  yes_ssl_cpu   9.120\n",
       "1224  411  yes_ssl_cpu   9.028\n",
       "1225  412  yes_ssl_cpu   8.788\n",
       "1226  413  yes_ssl_cpu   7.054\n",
       "1227  414  yes_ssl_cpu   8.218\n",
       "1228  415  yes_ssl_cpu   7.872\n",
       "1229  416  yes_ssl_cpu   7.922\n",
       "1230  417  yes_ssl_cpu   9.142\n",
       "1231  418  yes_ssl_cpu   8.818\n",
       "1232  419  yes_ssl_cpu   6.332\n",
       "1233  420  yes_ssl_cpu   6.912\n",
       "1234  421  yes_ssl_cpu   9.594\n",
       "1235  422  yes_ssl_cpu   8.882\n",
       "1236  423  yes_ssl_cpu  10.242\n",
       "1237  424  yes_ssl_cpu   9.692\n",
       "1238  425  yes_ssl_cpu  10.492\n",
       "\n",
       "[1239 rows x 3 columns]"
      ]
     },
     "execution_count": 6,
     "metadata": {},
     "output_type": "execute_result"
    }
   ],
   "source": [
    "ddd = summary[['no_ssl_cpu', 'yes_sse_cpu','yes_ssl_cpu']]\n",
    "ddd[\"t\"] = ddd.index\n",
    "ddd = pd.melt(ddd,\"t\")\n",
    "ddd"
   ]
  },
  {
   "cell_type": "code",
   "execution_count": 7,
   "metadata": {
    "ExecuteTime": {
     "end_time": "2016-04-19T14:41:19.358290",
     "start_time": "2016-04-19T14:41:19.156164"
    },
    "collapsed": false
   },
   "outputs": [
    {
     "data": {
      "text/plain": [
       "Index(['no_ssl_cpu', 'no_ssl_network', 'yes_sse_cpu', 'yes_sse_network',\n",
       "       'yes_ssl_cpu', 'yes_ssl_network'],\n",
       "      dtype='object')"
      ]
     },
     "execution_count": 7,
     "metadata": {},
     "output_type": "execute_result"
    }
   ],
   "source": [
    "summary.index\n",
    "summary.columns"
   ]
  },
  {
   "cell_type": "code",
   "execution_count": 8,
   "metadata": {
    "ExecuteTime": {
     "end_time": "2016-04-19T14:41:19.821043",
     "start_time": "2016-04-19T14:41:19.359677"
    },
    "collapsed": false
   },
   "outputs": [],
   "source": [
    "from ggplot import *\n",
    "\n",
    "p = ggplot(aes(x='value', color='variable', fill='variable'), data=pd.melt(summary[['no_ssl_cpu', 'yes_sse_cpu',\n",
    "       'yes_ssl_cpu']]))\n",
    "p.title = \"CPU Utilization Upon Transfer to S3\"\n"
   ]
  },
  {
   "cell_type": "code",
   "execution_count": 28,
   "metadata": {
    "ExecuteTime": {
     "end_time": "2016-04-19T14:52:34.328468",
     "start_time": "2016-04-19T14:52:34.273049"
    },
    "collapsed": false
   },
   "outputs": [],
   "source": [
    "ggplot(aes(x='t', y='value', color='variable', fill='variable'), data=ddd) +geom_line() +\\\n",
    "    stat_smooth(colour='white', span=0.2) +\\\n",
    "    xlab(\"T\") + ylab(\"CPU\") + ggtitle(\"CPU Utilization Upon Transfer to S3\") + theme_xkcd()"
   ]
  },
  {
   "cell_type": "code",
   "execution_count": 30,
   "metadata": {
    "ExecuteTime": {
     "end_time": "2016-04-19T14:53:14.810638",
     "start_time": "2016-04-19T14:53:13.966272"
    },
    "collapsed": false
   },
   "outputs": [
    {
     "name": "stderr",
     "output_type": "stream",
     "text": [
      "/home/psoutham/.apps/anaconda3/envs/bunnies/lib/python3.5/site-packages/ggplot/ggplot.py:154: RuntimeWarning: Setting \"mpl.rcParams['examples.download']=True\" raised an Exception: 'examples.download is not a valid rc parameter.See rcParams.keys() for a list of valid parameters.'\n",
      "  warnings.warn(msg, RuntimeWarning)\n",
      "/home/psoutham/.apps/anaconda3/envs/bunnies/lib/python3.5/site-packages/matplotlib/__init__.py:872: UserWarning: svg.embed_char_paths is deprecated and replaced with svg.fonttype; please use the latter.\n",
      "  warnings.warn(self.msg_depr % (key, alt_key))\n",
      "/home/psoutham/.apps/anaconda3/envs/bunnies/lib/python3.5/site-packages/matplotlib/__init__.py:872: UserWarning: axes.color_cycle is deprecated and replaced with axes.prop_cycle; please use the latter.\n",
      "  warnings.warn(self.msg_depr % (key, alt_key))\n"
     ]
    },
    {
     "data": {
      "image/png": "[encoded data removed]",
      "text/plain": [
       "<matplotlib.figure.Figure at 0x7ff6855f7710>"
      ]
     },
     "metadata": {},
     "output_type": "display_data"
    },
    {
     "data": {
      "text/plain": [
       "<ggplot: (-9223363243306157340)>"
      ]
     },
     "execution_count": 30,
     "metadata": {},
     "output_type": "execute_result"
    }
   ],
   "source": [
    "ggplot(aes('carat', 'price'), data=diamonds) + geom_point() + theme_538()"
   ]
  },
  {
   "cell_type": "code",
   "execution_count": null,
   "metadata": {
    "ExecuteTime": {
     "end_time": "2016-04-19T14:41:19.925617",
     "start_time": "2016-04-19T21:41:18.140Z"
    },
    "collapsed": false
   },
   "outputs": [],
   "source": [
    "p + geom_density(alpha=0.6)"
   ]
  },
  {
   "cell_type": "code",
   "execution_count": null,
   "metadata": {
    "ExecuteTime": {
     "end_time": "2016-04-19T14:41:19.925881",
     "start_time": "2016-04-19T21:41:18.144Z"
    },
    "collapsed": false
   },
   "outputs": [],
   "source": [
    "p+geom_histogram(alpha=0.6)"
   ]
  },
  {
   "cell_type": "code",
   "execution_count": null,
   "metadata": {
    "ExecuteTime": {
     "end_time": "2016-04-19T14:41:19.926130",
     "start_time": "2016-04-19T21:41:18.146Z"
    },
    "collapsed": true
   },
   "outputs": [],
   "source": [
    "p.ytick_labels"
   ]
  },
  {
   "cell_type": "code",
   "execution_count": null,
   "metadata": {
    "ExecuteTime": {
     "end_time": "2016-04-19T14:41:19.926372",
     "start_time": "2016-04-19T21:41:18.147Z"
    },
    "collapsed": false
   },
   "outputs": [],
   "source": [
    "plt.figure()\n",
    "summary_plt = summary.plot(\n",
    "    secondary_y=[df.df_name for df in async_cpu], \n",
    "    mark_right=True,\n",
    "    figsize=(16*2, 9*2)\n",
    ")\n",
    "summary_plt.set_ylabel(\"txkB/s\")\n",
    "summary_plt.set_ybound(0,750000)\n",
    "summary_plt.right_ax.set_ylabel(\"cpu utilization\")\n",
    "summary_plt.right_ax.set_ybound(0,100)\n",
    "summary_plt.set_title(\"Transferring 8 concurrent 30GB files\")\n",
    "\n",
    "#trend line for cpu"
   ]
  },
  {
   "cell_type": "code",
   "execution_count": null,
   "metadata": {
    "ExecuteTime": {
     "end_time": "2016-04-19T14:41:19.926583",
     "start_time": "2016-04-19T21:41:18.149Z"
    },
    "collapsed": false
   },
   "outputs": [],
   "source": [
    "summary.mean()"
   ]
  },
  {
   "cell_type": "code",
   "execution_count": null,
   "metadata": {
    "ExecuteTime": {
     "end_time": "2016-04-19T14:41:19.926786",
     "start_time": "2016-04-19T21:41:18.151Z"
    },
    "collapsed": false
   },
   "outputs": [],
   "source": [
    "summary[[df.df_name for df in async_cpu]].plot.hist(\n",
    "    stacked=False, \n",
    "    alpha=0.5,\n",
    "    orientation='horizontal'\n",
    ")"
   ]
  },
  {
   "cell_type": "code",
   "execution_count": null,
   "metadata": {
    "ExecuteTime": {
     "end_time": "2016-04-19T14:41:19.926983",
     "start_time": "2016-04-19T21:41:18.153Z"
    },
    "collapsed": false
   },
   "outputs": [],
   "source": [
    "summary[[df.df_name for df in async_network]].plot.hist(\n",
    "    stacked=False, \n",
    "    alpha=0.5,\n",
    "    orientation='horizontal'\n",
    ")"
   ]
  },
  {
   "cell_type": "code",
   "execution_count": null,
   "metadata": {
    "ExecuteTime": {
     "end_time": "2016-04-19T14:41:19.927180",
     "start_time": "2016-04-19T21:41:18.155Z"
    },
    "collapsed": false
   },
   "outputs": [],
   "source": [
    "summary[[df.df_name for df in async_cpu]].plot.box(vert=False)"
   ]
  },
  {
   "cell_type": "code",
   "execution_count": null,
   "metadata": {
    "ExecuteTime": {
     "end_time": "2016-04-19T14:41:19.927377",
     "start_time": "2016-04-19T21:41:18.157Z"
    },
    "collapsed": false
   },
   "outputs": [],
   "source": [
    "summary.plot.area(\n",
    "    secondary_y=[df.df_name for df in async_cpu], \n",
    "    mark_right=True,\n",
    "    alpha=.5,\n",
    "    stacked=False\n",
    ")"
   ]
  },
  {
   "cell_type": "code",
   "execution_count": null,
   "metadata": {
    "ExecuteTime": {
     "end_time": "2016-04-19T14:41:19.927572",
     "start_time": "2016-04-19T21:41:18.159Z"
    },
    "collapsed": false
   },
   "outputs": [],
   "source": [
    "summary[[\"yes_ssl_cpu\", \"yes_sse_cpu\", \"no_ssl_cpu\"]].plot.kde()\n",
    "# change x value, use for bonnie++ test results"
   ]
  },
  {
   "cell_type": "code",
   "execution_count": null,
   "metadata": {
    "ExecuteTime": {
     "end_time": "2016-04-19T14:41:19.927765",
     "start_time": "2016-04-19T21:41:18.160Z"
    },
    "collapsed": false
   },
   "outputs": [],
   "source": [
    "from pandas.tools.plotting import autocorrelation_plot\n",
    "autocorrelation_plot(summary.yes_sse_cpu)\n",
    "autocorrelation_plot(summary.yes_ssl_cpu)\n",
    "autocorrelation_plot(summary.no_ssl_cpu)"
   ]
  },
  {
   "cell_type": "code",
   "execution_count": null,
   "metadata": {
    "ExecuteTime": {
     "end_time": "2016-04-19T14:41:19.927960",
     "start_time": "2016-04-19T21:41:18.161Z"
    },
    "collapsed": false
   },
   "outputs": [],
   "source": [
    "from pandas.tools.plotting import bootstrap_plot\n",
    "bootstrap_plot(summary.yes_sse_cpu)"
   ]
  },
  {
   "cell_type": "code",
   "execution_count": null,
   "metadata": {
    "ExecuteTime": {
     "end_time": "2016-04-19T14:41:19.928154",
     "start_time": "2016-04-19T21:41:18.163Z"
    },
    "collapsed": false
   },
   "outputs": [],
   "source": [
    "summary.plot(subplots=True, figsize=(9,9))"
   ]
  },
  {
   "cell_type": "code",
   "execution_count": null,
   "metadata": {
    "ExecuteTime": {
     "end_time": "2016-04-19T14:41:19.928395",
     "start_time": "2016-04-19T21:41:18.165Z"
    },
    "collapsed": false
   },
   "outputs": [],
   "source": [
    "# PROCESS SAR METRICS\n",
    "SAMPLES=8\n",
    "\n",
    "single_no_ssl_networks = tuple(network_df(os.path.join(\"reports2\", \"single_no_ssl_no_sse-network.{}.sar.txt\".format(i)))\n",
    "                              for i in range(0, SAMPLES))\n",
    "single_yes_ssl_networks = tuple(network_df(os.path.join(\"reports2\", \"single_yes_ssl_no_sse-network.{}.sar.txt\".format(i)))\n",
    "                               for i in range(0, SAMPLES))\n",
    "single_yes_sse_networks = tuple(network_df(os.path.join(\"reports2\", \"single_yes_ssl_yes_sse-network.{}.sar.txt\".format(i)))\n",
    "                               for i in range(0, SAMPLES))\n",
    "\n",
    "single_no_ssl_cpus = tuple(cpu_df(os.path.join(\"reports2\", \"single_no_ssl_no_sse-cpu.{}.sar.txt\".format(i)))\n",
    "                          for i in range(0, SAMPLES))\n",
    "single_yes_ssl_cpus = tuple(cpu_df(os.path.join(\"reports2\", \"single_yes_ssl_no_sse-cpu.{}.sar.txt\".format(i)))\n",
    "                           for i in range(0, SAMPLES))\n",
    "single_yes_sse_cpus = tuple(cpu_df(os.path.join(\"reports2\", \"single_yes_ssl_yes_sse-cpu.{}.sar.txt\".format(i)))\n",
    "                           for i in range(0, SAMPLES))\n",
    "\n",
    "for df in single_no_ssl_networks + single_yes_sse_networks + single_yes_ssl_networks:\n",
    "    df.columns = BW_COLS\n",
    "\n",
    "for df in single_no_ssl_cpus + single_yes_sse_cpus + single_yes_ssl_cpus:\n",
    "    df.columns = CPU_COLS\n",
    "\n",
    "single_no_ssl_cpu = pd.DataFrame({\"s{}\".format(i): 100-df.cpu for (i,df) in enumerate(single_no_ssl_cpus)})\n",
    "single_no_ssl_cpu.df_name = \"no_ssl_cpu\"\n",
    "single_yes_ssl_cpu = pd.DataFrame({\"s{}\".format(i): 100-df.cpu for (i,df) in enumerate(single_yes_ssl_cpus)})\n",
    "single_yes_ssl_cpu.df_name = \"yes_ssl_cpu\"\n",
    "single_yes_sse_cpu = pd.DataFrame({\"s{}\".format(i): 100-df.cpu for (i,df) in enumerate(single_yes_sse_cpus)})\n",
    "single_yes_sse_cpu.df_name = \"yes_sse_cpu\"\n",
    "\n",
    "single_no_ssl_network = pd.DataFrame({\"s{}\".format(i): df.txkB for (i,df) in enumerate(single_no_ssl_networks)})\n",
    "single_no_ssl_network.df_name = \"no_ssl_network\"\n",
    "single_yes_ssl_network = pd.DataFrame({\"s{}\".format(i): df.txkB for (i,df) in enumerate(single_yes_ssl_networks)})\n",
    "single_yes_ssl_network.df_name = \"yes_ssl_network\"\n",
    "single_yes_sse_network = pd.DataFrame({\"s{}\".format(i): df.txkB for (i,df) in enumerate(single_yes_sse_networks)})\n",
    "single_yes_sse_network.df_name = \"yes_sse_network\"\n",
    "\n",
    "single_cpu = (single_no_ssl_cpu, single_yes_ssl_cpu, single_yes_sse_cpu)\n",
    "single_network = (single_no_ssl_network, single_yes_ssl_network, single_yes_sse_network)\n",
    "\n",
    "for df in single_cpu + single_network:\n",
    "    df[\"sample_mean\"] = df[list(map(\"s{}\".format, range(0, SAMPLES)))].mean(1)"
   ]
  },
  {
   "cell_type": "code",
   "execution_count": null,
   "metadata": {
    "ExecuteTime": {
     "end_time": "2016-04-19T14:41:19.928600",
     "start_time": "2016-04-19T21:41:18.167Z"
    },
    "collapsed": false
   },
   "outputs": [],
   "source": [
    "plt.figure()\n",
    "\n",
    "single_summary = pd.DataFrame({df.df_name: df.sample_mean for df in single_cpu + single_network}).loc[5:90,]\n",
    "single_summary_plt = single_summary.plot(\n",
    "    secondary_y=[df.df_name for df in single_cpu], \n",
    "    mark_right=True,\n",
    "    figsize=(16, 9)\n",
    ")\n",
    "single_summary_plt.set_ybound(0,400000)\n",
    "single_summary_plt.set_ylabel(\"txkB/s\")\n",
    "single_summary_plt.right_ax.set_ylabel(\"cpu utilization\")\n",
    "single_summary_plt.right_ax.set_ybound(0,100)\n",
    "single_summary_plt.set_title(\"Transferring 1 30GB file\")"
   ]
  },
  {
   "cell_type": "code",
   "execution_count": null,
   "metadata": {
    "ExecuteTime": {
     "end_time": "2016-04-19T14:41:19.928800",
     "start_time": "2016-04-19T21:41:18.169Z"
    },
    "collapsed": false
   },
   "outputs": [],
   "source": [
    "single_summary.mean()"
   ]
  },
  {
   "cell_type": "markdown",
   "metadata": {},
   "source": [
    "### Disk I/O"
   ]
  },
  {
   "cell_type": "code",
   "execution_count": null,
   "metadata": {
    "ExecuteTime": {
     "end_time": "2016-04-19T14:41:19.929008",
     "start_time": "2016-04-19T21:41:18.172Z"
    },
    "collapsed": false
   },
   "outputs": [],
   "source": [
    "samples = []\n",
    "for dev in (\"eph-p\", \"eph-e\", \"io-e\", \"io-p\"): #\"gpt-e\", \n",
    "    with open(os.path.join(\"reports\", \"bonnie.{}.txt\".format(dev)), \"r\") as f:\n",
    "        samples.extend(dev.split(\"-\") + l.strip().split(\",\") for l in f.readlines()[1:])"
   ]
  },
  {
   "cell_type": "code",
   "execution_count": null,
   "metadata": {
    "ExecuteTime": {
     "end_time": "2016-04-19T14:41:19.929289",
     "start_time": "2016-04-19T21:41:18.173Z"
    },
    "collapsed": false
   },
   "outputs": [],
   "source": [
    "bonnie = pd.DataFrame(samples)[[0,1,11, 12, 13,17, 18, 39, 40,]+list(range(42,50))]\n",
    "bonnie.columns=[\"dev_type\", \"enc_flag\", \"put_block\", \"put_block_cpu\", \"rewrite\", \"get_block\",\n",
    "\"get_block_cpu\", \"put_block_latency\",\"rewrite_latency\",\n",
    "\"get_block_latency\",\"seeks_latency\",\"seq_create_latency\",\"seq_stat_latency\",\"seq_del_latency\",\"ran_create_latency\",\"ran_stat_latency\",\"ran_del_latency\"]\n",
    "\n",
    "for l in (\"put_block\", \"get_block\", \"put_block_cpu\", \"get_block_cpu\"):\n",
    "    bonnie[l] = bonnie[l].apply(int)\n",
    "    \n",
    "for l in (\"put_block_latency\", \"get_block_latency\"):\n",
    "    bonnie[l] = bonnie[l].apply(lambda x: int(x[:-2]) if x[-2:] == \"us\" else int(x[:-2])*1000)\n"
   ]
  },
  {
   "cell_type": "code",
   "execution_count": null,
   "metadata": {
    "ExecuteTime": {
     "end_time": "2016-04-19T14:41:19.929532",
     "start_time": "2016-04-19T21:41:18.175Z"
    },
    "collapsed": false
   },
   "outputs": [],
   "source": [
    "bonnie.boxplot(by=[\"dev_type\", \"enc_flag\"], \n",
    "           column=[\"put_block\", \"get_block\"], \n",
    "           figsize=(16,9))"
   ]
  },
  {
   "cell_type": "code",
   "execution_count": null,
   "metadata": {
    "ExecuteTime": {
     "end_time": "2016-04-19T14:41:19.929776",
     "start_time": "2016-04-19T21:41:18.177Z"
    },
    "collapsed": false
   },
   "outputs": [],
   "source": [
    "bonnie[bonnie.dev_type == \"eph\"].boxplot(by=\"enc_flag\", \n",
    "           column=[\"put_block\", \"get_block\"],           \n",
    "           figsize=(16,9))"
   ]
  },
  {
   "cell_type": "code",
   "execution_count": null,
   "metadata": {
    "ExecuteTime": {
     "end_time": "2016-04-19T14:41:19.929996",
     "start_time": "2016-04-19T21:41:18.179Z"
    },
    "collapsed": false
   },
   "outputs": [],
   "source": [
    "bonnie[bonnie.dev_type == \"io\"].boxplot(by=\"enc_flag\", \n",
    "           column=\"get_block\",           \n",
    "           figsize=(16,9))"
   ]
  },
  {
   "cell_type": "code",
   "execution_count": null,
   "metadata": {
    "ExecuteTime": {
     "end_time": "2016-04-19T14:41:19.930201",
     "start_time": "2016-04-19T21:41:18.181Z"
    },
    "collapsed": false
   },
   "outputs": [],
   "source": [
    "g = sns.factorplot(x=\"dev_type\", y=\"put_block\", hue=\"enc_flag\", data=bonnie,\n",
    "                  kind=\"bar\", size=9,palette=['r','g'])\n",
    "g.despine(left=True)"
   ]
  },
  {
   "cell_type": "code",
   "execution_count": null,
   "metadata": {
    "ExecuteTime": {
     "end_time": "2016-04-19T14:41:19.930395",
     "start_time": "2016-04-19T21:41:18.182Z"
    },
    "collapsed": false
   },
   "outputs": [],
   "source": [
    "g = sns.factorplot(x=\"dev_type\", y=\"get_block\", hue=\"enc_flag\", data=bonnie,\n",
    "                  kind=\"bar\", size=9,palette=['r','g'])\n",
    "g.despine(left=True)"
   ]
  },
  {
   "cell_type": "code",
   "execution_count": null,
   "metadata": {
    "ExecuteTime": {
     "end_time": "2016-04-19T14:41:19.930589",
     "start_time": "2016-04-19T21:41:18.184Z"
    },
    "collapsed": false
   },
   "outputs": [],
   "source": [
    "sns.reset_defaults()\n",
    "sns.set_style(\"whitegrid\")\n",
    "g = sns.boxplot(x=\"dev_type\", y=\"get_block_cpu\", hue=\"enc_flag\", data=bonnie[bonnie.dev_type == \"eph\"],palette=['r','g'],width=.7)\n",
    "g.set_title(\"Ephemerial relative CPU on READ\\nLUKS(e) vs PlainText(p)\")\n",
    "g.set_ybound(5,15)\n",
    "sns.despine(offset=5)"
   ]
  },
  {
   "cell_type": "code",
   "execution_count": null,
   "metadata": {
    "ExecuteTime": {
     "end_time": "2016-04-19T14:41:19.930780",
     "start_time": "2016-04-19T21:41:18.185Z"
    },
    "collapsed": false
   },
   "outputs": [],
   "source": [
    "sns.reset_defaults()\n",
    "sns.set_style(\"whitegrid\")\n",
    "g = sns.boxplot(x=\"dev_type\", y=\"put_block_cpu\", hue=\"enc_flag\", data=bonnie[bonnie.dev_type == \"eph\"],palette=['r','g'], width=.8)\n",
    "g.set_title(\"Ephemerial relative CPU on WRITE\\nLUKS(e) vs PlainText(p)\")\n",
    "g.set_ybound(25,35)\n",
    "sns.despine(offset=5)"
   ]
  },
  {
   "cell_type": "code",
   "execution_count": null,
   "metadata": {
    "ExecuteTime": {
     "end_time": "2016-04-19T14:41:19.930972",
     "start_time": "2016-04-19T21:41:18.187Z"
    },
    "collapsed": false
   },
   "outputs": [],
   "source": [
    "sns.reset_defaults()\n",
    "sns.set_style(\"whitegrid\")\n",
    "g = sns.boxplot(x=\"dev_type\", y=\"get_block\", hue=\"enc_flag\", data=bonnie[bonnie.dev_type == \"io\"],palette=['g','r'], width=.8)\n",
    "g.set_title(\"EBS relative Throughput on READ\\nEncrypted(e) vs PlainText(p)\")\n",
    "sns.despine(offset=5)"
   ]
  },
  {
   "cell_type": "code",
   "execution_count": null,
   "metadata": {
    "ExecuteTime": {
     "end_time": "2016-04-19T14:41:19.931166",
     "start_time": "2016-04-19T21:41:18.189Z"
    },
    "collapsed": false
   },
   "outputs": [],
   "source": [
    "sns.reset_defaults()\n",
    "sns.set_style(\"whitegrid\")\n",
    "g = sns.boxplot(x=\"dev_type\", y=\"put_block\", hue=\"enc_flag\", data=bonnie[bonnie.dev_type == \"io\"],palette=['g','r'], width=.8)\n",
    "g.set_title(\"EBS relative Throughput on WRITE\\nEncrypted(e) vs PlainText(p)\")\n",
    "sns.despine(offset=5)"
   ]
  },
  {
   "cell_type": "code",
   "execution_count": null,
   "metadata": {
    "ExecuteTime": {
     "end_time": "2016-04-19T14:41:19.931355",
     "start_time": "2016-04-19T21:41:18.191Z"
    },
    "collapsed": false
   },
   "outputs": [],
   "source": [
    "sns.reset_defaults()\n",
    "sns.set_style(\"whitegrid\")\n",
    "g = sns.boxplot(x=\"dev_type\", y=\"put_block\", hue=\"enc_flag\", data=bonnie[bonnie.dev_type == \"eph\"],palette=['r','g'], width=.8)\n",
    "g.set_title(\"Ephemerial relative Throughput on WRITE\\nLUKS(e) vs PlainText(p)\")\n",
    "sns.despine(offset=5)"
   ]
  },
  {
   "cell_type": "code",
   "execution_count": null,
   "metadata": {
    "ExecuteTime": {
     "end_time": "2016-04-19T14:41:19.931544",
     "start_time": "2016-04-19T21:41:18.192Z"
    },
    "collapsed": false
   },
   "outputs": [],
   "source": [
    "sns.reset_defaults()\n",
    "sns.set_style(\"whitegrid\")\n",
    "g = sns.boxplot(x=\"dev_type\", y=\"get_block\", hue=\"enc_flag\", data=bonnie[bonnie.dev_type == \"eph\"],palette=['r','g'], width=.8)\n",
    "g.set_title(\"Ephemerial relative Throughput on READ\\nEncrypted(e) vs PlainText(p)\")\n",
    "sns.despine(offset=5)"
   ]
  },
  {
   "cell_type": "code",
   "execution_count": null,
   "metadata": {
    "ExecuteTime": {
     "end_time": "2016-04-19T14:41:19.931754",
     "start_time": "2016-04-19T21:41:18.194Z"
    },
    "collapsed": false
   },
   "outputs": [],
   "source": [
    "fig, axes = plt.subplots(nrows=2, ncols=2, figsize=(16, 9))\n",
    "_ = fig.suptitle(\"bonnie tests\")\n",
    "g_er = sns.boxplot(x=\"dev_type\", y=\"get_block\",\n",
    "                hue=\"enc_flag\", \n",
    "                data=bonnie[bonnie.dev_type == \"eph\"],\n",
    "                palette=['r','g'],\n",
    "                width=.8,\n",
    "                ax=axes[0, 0])\n",
    "g_er.set_title(\"Ephemerial relative Throughput on READ\\nEncrypted(e) vs PlainText(p)\")\n",
    "g_er.set_xlabel(\"\")\n",
    "g_er.set_ylabel(\"blocks/sec\")\n",
    "g_ew = sns.boxplot(x=\"dev_type\", y=\"put_block\",\n",
    "                hue=\"enc_flag\",\n",
    "                data=bonnie[bonnie.dev_type == \"eph\"],\n",
    "                palette=['r','g'],\n",
    "                width=.8,\n",
    "                ax=axes[0, 1])\n",
    "g_ew.set_title(\"Ephemerial relative Throughput on WRITE\\nLUKS(e) vs PlainText(p)\")\n",
    "g_ew.set_xlabel(\"\")\n",
    "g_ew.set_ylabel(\"blocks/sec\")\n",
    "\n",
    "g_ir = sns.boxplot(x=\"dev_type\", y=\"get_block\",\n",
    "                hue=\"enc_flag\",\n",
    "                data=bonnie[bonnie.dev_type == \"io\"],\n",
    "                palette=['g','r'],\n",
    "                width=.8,\n",
    "                ax=axes[1, 0]\n",
    "               )\n",
    "g_ir.set_title(\"EBS relative Throughput on READ\\nEncrypted(e) vs PlainText(p)\")\n",
    "g_ir.set_xlabel(\"\")\n",
    "g_ir.set_ylabel(\"blocks/sec\")\n",
    "\n",
    "g_iw = sns.boxplot(x=\"dev_type\", y=\"put_block\",\n",
    "                hue=\"enc_flag\",\n",
    "                data=bonnie[bonnie.dev_type == \"io\"],\n",
    "                palette=['g','r'],\n",
    "                width=.8,\n",
    "                ax=axes[1, 1]\n",
    "               )\n",
    "g_iw.set_title(\"EBS relative Throughput on WRITE\\nEncrypted(e) vs PlainText(p)\")\n",
    "g_iw.set_xlabel(\"\")\n",
    "g_iw.set_ylabel(\"blocks/sec\")\n",
    "\n",
    "sns.despine(offset=5)\n",
    "fig.subplots_adjust(hspace=0.4)"
   ]
  }
 ],
 "metadata": {
  "kernelspec": {
   "display_name": "Python 3",
   "language": "python",
   "name": "python3"
  },
  "language_info": {
   "codemirror_mode": {
    "name": "ipython",
    "version": 3
   },
   "file_extension": ".py",
   "mimetype": "text/x-python",
   "name": "python",
   "nbconvert_exporter": "python",
   "pygments_lexer": "ipython3",
   "version": "3.5.1"
  }
 },
 "nbformat": 4,
 "nbformat_minor": 0
}
